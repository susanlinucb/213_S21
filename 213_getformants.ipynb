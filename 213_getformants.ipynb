{
 "cells": [
  {
   "cell_type": "code",
   "execution_count": 2,
   "id": "constant-passage",
   "metadata": {},
   "outputs": [],
   "source": [
    "import parselmouth as pm"
   ]
  },
  {
   "cell_type": "code",
   "execution_count": 4,
   "id": "noble-maker",
   "metadata": {},
   "outputs": [],
   "source": [
    "testwav = './BJPwordlist2_smoothed.WAV'\n",
    "wav = pm.Sound(testwav)\n",
    "[au, of, op, nf] = wav.extract_all_channels()  # splitting the channels (Step 1!)"
   ]
  },
  {
   "cell_type": "code",
   "execution_count": 9,
   "id": "greatest-knife",
   "metadata": {},
   "outputs": [
    {
     "data": {
      "text/plain": [
       "<parselmouth.Formant at 0x7fcbeb8b1170>"
      ]
     },
     "execution_count": 9,
     "metadata": {},
     "output_type": "execute_result"
    }
   ],
   "source": [
    "formants = au.to_formant_burg(max_number_of_formants=5.0, maximum_formant=5000)  # analog of the To Formant command (Step 2!)\n",
    "formants"
   ]
  },
  {
   "cell_type": "code",
   "execution_count": 11,
   "id": "professional-swift",
   "metadata": {},
   "outputs": [
    {
     "data": {
      "text/plain": [
       "753.1153051084241"
      ]
     },
     "execution_count": 11,
     "metadata": {},
     "output_type": "execute_result"
    }
   ],
   "source": [
    "formants.get_value_at_time(formant_number=1, time=51.105)  # analog of Query > Get value at time... (Step 3!)"
   ]
  },
  {
   "cell_type": "code",
   "execution_count": 12,
   "id": "dietary-discount",
   "metadata": {},
   "outputs": [
    {
     "data": {
      "text/plain": [
       "1399.8077586415536"
      ]
     },
     "execution_count": 12,
     "metadata": {},
     "output_type": "execute_result"
    }
   ],
   "source": [
    "formants.get_value_at_time(formant_number=2, time=51.105)"
   ]
  },
  {
   "cell_type": "code",
   "execution_count": 13,
   "id": "indie-niagara",
   "metadata": {},
   "outputs": [
    {
     "data": {
      "text/plain": [
       "2310.2624338386904"
      ]
     },
     "execution_count": 13,
     "metadata": {},
     "output_type": "execute_result"
    }
   ],
   "source": [
    "formants.get_value_at_time(formant_number=3, time=51.105)"
   ]
  }
 ],
 "metadata": {
  "kernelspec": {
   "display_name": "Python 3",
   "language": "python",
   "name": "python3"
  },
  "language_info": {
   "codemirror_mode": {
    "name": "ipython",
    "version": 3
   },
   "file_extension": ".py",
   "mimetype": "text/x-python",
   "name": "python",
   "nbconvert_exporter": "python",
   "pygments_lexer": "ipython3",
   "version": "3.9.1"
  }
 },
 "nbformat": 4,
 "nbformat_minor": 5
}
